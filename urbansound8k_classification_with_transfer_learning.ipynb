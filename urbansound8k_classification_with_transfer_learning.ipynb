{
 "cells": [
  {
   "cell_type": "markdown",
   "metadata": {},
   "source": [
    "# URBANSOUND8K Classification\n",
    "\n",
    "This project aims to build a machine learning model with CNN algorithm to classify sounds.\n",
    "\n",
    "## Dataset\n",
    "\n",
    "This dataset contains 8732 labeled sound excerpts (<=4s) of urban sounds from 10 classes: air_conditioner, car_horn, children_playing, dog_bark, drilling, enginge_idling, gun_shot, jackhammer, siren, and street_music.\n",
    "\n",
    "https://urbansounddataset.weebly.com/urbansound8k.html"
   ]
  },
  {
   "cell_type": "code",
   "execution_count": 2,
   "metadata": {
    "id": "dsADlDd461Mu"
   },
   "outputs": [],
   "source": [
    "import tensorflow as tf\n",
    "from tensorflow.keras.preprocessing.image import ImageDataGenerator\n",
    "import matplotlib.pyplot as plt"
   ]
  },
  {
   "cell_type": "code",
   "execution_count": 1,
   "metadata": {
    "colab": {
     "base_uri": "https://localhost:8080/"
    },
    "id": "9VAuIko7K_qB",
    "outputId": "82321afe-2a5d-4273-90f7-fa12bfb34de4"
   },
   "outputs": [
    {
     "name": "stdout",
     "output_type": "stream",
     "text": [
      "Mounted at /content/drive\n"
     ]
    }
   ],
   "source": [
    "from google.colab import drive\n",
    "drive.mount('/content/drive')"
   ]
  },
  {
   "cell_type": "code",
   "execution_count": 3,
   "metadata": {
    "id": "vGdnXzqd8Dmg"
   },
   "outputs": [],
   "source": [
    "data=\"/content/drive/MyDrive/spectrograms\""
   ]
  },
  {
   "cell_type": "code",
   "execution_count": 4,
   "metadata": {
    "id": "MUTbJNbo8DpI"
   },
   "outputs": [],
   "source": [
    "data_generator=ImageDataGenerator(rescale=1./255,#0,1\n",
    "                                  validation_split =0.3)"
   ]
  },
  {
   "cell_type": "code",
   "execution_count": 5,
   "metadata": {
    "colab": {
     "base_uri": "https://localhost:8080/"
    },
    "id": "g50a18pR8Dr1",
    "outputId": "4f921a6b-c2e8-44b9-853e-e0712a31e535"
   },
   "outputs": [
    {
     "name": "stdout",
     "output_type": "stream",
     "text": [
      "Found 6114 images belonging to 10 classes.\n",
      "Found 2618 images belonging to 10 classes.\n"
     ]
    }
   ],
   "source": [
    "train_data =data_generator.flow_from_directory(data,\n",
    "                                batch_size=128,\n",
    "                                target_size=(250,144),\n",
    "                                class_mode =\"categorical\",\n",
    "                                seed=1,\n",
    "                                subset =\"training\")\n",
    "test_data =data_generator.flow_from_directory(data,\n",
    "                                batch_size=128,\n",
    "                                target_size=(250,144),\n",
    "                                class_mode =\"categorical\",\n",
    "                                seed=1,\n",
    "                                subset=\"validation\")"
   ]
  },
  {
   "cell_type": "code",
   "execution_count": null,
   "metadata": {
    "id": "b81gfy0M8DvJ"
   },
   "outputs": [],
   "source": [
    "model_0= tf.keras.Sequential([\n",
    "                              tf.keras.layers.Conv2D(filters=24, kernel_size=(5,5), strides=(2, 2), activation='relu'),\n",
    "                              tf.keras.layers.MaxPool2D(pool_size=(3,3), strides=(3,3)),\n",
    "                              tf.keras.layers.Conv2D(filters = 36 , kernel_size =(4,4), strides=(2, 2), activation=\"relu\"),\n",
    "                              tf.keras.layers.MaxPooling2D(pool_size = (2,2), strides=(2,2)),\n",
    "                              tf.keras.layers.Conv2D(filters = 48 , kernel_size =(3,3), strides=(2, 2),activation=\"relu\"),\n",
    "                              tf.keras.layers.Dropout(0.5),\n",
    "                              tf.keras.layers.Flatten(),\n",
    "                              tf.keras.layers.Dense(64,activation='relu'),\n",
    "                              tf.keras.layers.Dense(10,activation='softmax')\n",
    "])\n"
   ]
  },
  {
   "cell_type": "code",
   "execution_count": null,
   "metadata": {
    "id": "B_0KE3CC8Dxn"
   },
   "outputs": [],
   "source": [
    "model_0.compile(loss=\"categorical_crossentropy\",\n",
    "                optimizer=tf.keras.optimizers.Adam(),\n",
    "                metrics='accuracy')"
   ]
  },
  {
   "cell_type": "code",
   "execution_count": null,
   "metadata": {
    "colab": {
     "base_uri": "https://localhost:8080/"
    },
    "id": "XglCZOS4OpD4",
    "outputId": "b6fc072f-ea38-4f88-d143-ce2b3be47993"
   },
   "outputs": [
    {
     "name": "stdout",
     "output_type": "stream",
     "text": [
      "Epoch 1/10\n",
      "48/48 [==============================] - 3708s 79s/step - loss: 2.0262 - accuracy: 0.2501 - val_loss: 1.7359 - val_accuracy: 0.3606\n",
      "Epoch 2/10\n",
      "48/48 [==============================] - 92s 2s/step - loss: 1.5600 - accuracy: 0.4447 - val_loss: 1.3994 - val_accuracy: 0.4626\n",
      "Epoch 3/10\n",
      "48/48 [==============================] - 91s 2s/step - loss: 1.3058 - accuracy: 0.5507 - val_loss: 1.2770 - val_accuracy: 0.5222\n",
      "Epoch 4/10\n",
      "48/48 [==============================] - 94s 2s/step - loss: 1.1259 - accuracy: 0.6145 - val_loss: 1.1437 - val_accuracy: 0.5569\n",
      "Epoch 5/10\n",
      "48/48 [==============================] - 113s 2s/step - loss: 1.0100 - accuracy: 0.6428 - val_loss: 1.0640 - val_accuracy: 0.6016\n",
      "Epoch 6/10\n",
      "48/48 [==============================] - 97s 2s/step - loss: 0.9469 - accuracy: 0.6711 - val_loss: 1.1617 - val_accuracy: 0.5749\n",
      "Epoch 7/10\n",
      "48/48 [==============================] - 97s 2s/step - loss: 0.8555 - accuracy: 0.7079 - val_loss: 1.0663 - val_accuracy: 0.6089\n",
      "Epoch 8/10\n",
      "48/48 [==============================] - 95s 2s/step - loss: 0.8113 - accuracy: 0.7234 - val_loss: 1.0011 - val_accuracy: 0.6222\n",
      "Epoch 9/10\n",
      "48/48 [==============================] - 94s 2s/step - loss: 0.7462 - accuracy: 0.7507 - val_loss: 1.0226 - val_accuracy: 0.6283\n",
      "Epoch 10/10\n",
      "48/48 [==============================] - 94s 2s/step - loss: 0.6940 - accuracy: 0.7653 - val_loss: 0.9543 - val_accuracy: 0.6478\n"
     ]
    }
   ],
   "source": [
    "history_0=model_0.fit(\n",
    "    train_data,    \n",
    "    epochs=10,\n",
    "    batch_size=128,\n",
    "    validation_data=test_data\n",
    ")"
   ]
  },
  {
   "cell_type": "code",
   "execution_count": null,
   "metadata": {
    "id": "B4Kn2TeTaU3m"
   },
   "outputs": [],
   "source": [
    "def plot_loss_curves(history):\n",
    "\n",
    "  loss = history.history[\"loss\"]\n",
    "  val_loss = history.history[\"val_loss\"]\n",
    "  accuracy = history.history[\"accuracy\"]\n",
    "  val_accuracy = history.history[\"val_accuracy\"]\n",
    "  epochs = range(len(history.history[\"loss\"]))\n",
    "\n",
    "  # Plot loss\n",
    "  plt.plot(epochs, loss, label=\"training loss\")\n",
    "  plt.plot(epochs, val_loss, label=\"validation loss\")\n",
    "  plt.title(\"loss\")\n",
    "  plt.xlabel(\"epochs\")\n",
    "  plt.legend()\n",
    "\n",
    "  # Plot accuracy\n",
    "  plt.figure()\n",
    "  plt.plot(epochs, accuracy, label=\"training accuracy\")\n",
    "  plt.plot(epochs, val_accuracy, label=\"validation accuracy\")\n",
    "  plt.title(\"accuracy\")\n",
    "  plt.xlabel(\"epochs\")\n",
    "  plt.legend;"
   ]
  },
  {
   "cell_type": "code",
   "execution_count": null,
   "metadata": {
    "colab": {
     "base_uri": "https://localhost:8080/",
     "height": 573
    },
    "id": "079XWcJ-sTJS",
    "outputId": "a2f5a8e6-dc09-42ba-b39b-3e3ca968b13a"
   },
   "outputs": [
    {
     "data": {
      "image/png": "[encoded data removed]",
      "text/plain": [
       "<Figure size 432x288 with 1 Axes>"
      ]
     },
     "metadata": {
      "needs_background": "light"
     },
     "output_type": "display_data"
    },
    {
     "data": {
      "image/png": "[encoded data removed]",
      "text/plain": [
       "<Figure size 432x288 with 1 Axes>"
      ]
     },
     "metadata": {
      "needs_background": "light"
     },
     "output_type": "display_data"
    }
   ],
   "source": [
    "plot_loss_curves(history_0)"
   ]
  },
  {
   "cell_type": "code",
   "execution_count": null,
   "metadata": {
    "colab": {
     "base_uri": "https://localhost:8080/"
    },
    "id": "BS129XSAxzAe",
    "outputId": "d7100b20-ff35-4340-80c0-16943a3e9c43"
   },
   "outputs": [
    {
     "name": "stdout",
     "output_type": "stream",
     "text": [
      "21/21 [==============================] - 23s 1s/step - loss: 0.9543 - accuracy: 0.6478\n"
     ]
    },
    {
     "data": {
      "text/plain": [
       "[0.9543344974517822, 0.6478227376937866]"
      ]
     },
     "execution_count": 12,
     "metadata": {},
     "output_type": "execute_result"
    }
   ],
   "source": [
    "model_0.evaluate(test_data)"
   ]
  },
  {
   "cell_type": "markdown",
   "metadata": {},
   "source": [
    "## Transfer Learning"
   ]
  },
  {
   "cell_type": "code",
   "execution_count": 6,
   "metadata": {
    "id": "sZmOMW4jgNBU"
   },
   "outputs": [],
   "source": [
    "import tensorflow_hub as hub"
   ]
  },
  {
   "cell_type": "code",
   "execution_count": 7,
   "metadata": {
    "id": "qI1g95IbgawG"
   },
   "outputs": [],
   "source": [
    "model_url = \"https://tfhub.dev/google/imagenet/resnet_v2_50/feature_vector/5\"\n",
    "resnet_layer = hub.KerasLayer(model_url, trainable=False)"
   ]
  },
  {
   "cell_type": "code",
   "execution_count": 8,
   "metadata": {
    "id": "p_k9BNhTgcj-"
   },
   "outputs": [],
   "source": [
    "model = tf.keras.Sequential([\n",
    "    resnet_layer,\n",
    "    tf.keras.layers.Dense(10, activation=\"softmax\")\n",
    "])\n",
    "\n",
    "model.compile(loss = tf.keras.losses.categorical_crossentropy,\n",
    "              optimizer = \"adam\",\n",
    "              metrics = [\"accuracy\"])"
   ]
  },
  {
   "cell_type": "code",
   "execution_count": 9,
   "metadata": {
    "colab": {
     "base_uri": "https://localhost:8080/"
    },
    "id": "UTqftAVSge2f",
    "outputId": "cf0c8799-dc1a-4bcf-a7d4-ea208d4bd82b"
   },
   "outputs": [
    {
     "name": "stdout",
     "output_type": "stream",
     "text": [
      "Epoch 1/10\n",
      "48/48 [==============================] - 2536s 53s/step - loss: 1.4335 - accuracy: 0.5105 - val_loss: 1.0182 - val_accuracy: 0.6784\n",
      "Epoch 2/10\n",
      "48/48 [==============================] - 54s 1s/step - loss: 0.8770 - accuracy: 0.7192 - val_loss: 0.8805 - val_accuracy: 0.7093\n",
      "Epoch 3/10\n",
      "48/48 [==============================] - 54s 1s/step - loss: 0.7292 - accuracy: 0.7735 - val_loss: 0.8203 - val_accuracy: 0.7273\n",
      "Epoch 4/10\n",
      "48/48 [==============================] - 53s 1s/step - loss: 0.6442 - accuracy: 0.8013 - val_loss: 0.7846 - val_accuracy: 0.7257\n",
      "Epoch 5/10\n",
      "48/48 [==============================] - 54s 1s/step - loss: 0.5835 - accuracy: 0.8247 - val_loss: 0.7519 - val_accuracy: 0.7441\n",
      "Epoch 6/10\n",
      "48/48 [==============================] - 54s 1s/step - loss: 0.5381 - accuracy: 0.8366 - val_loss: 0.7555 - val_accuracy: 0.7380\n",
      "Epoch 7/10\n",
      "48/48 [==============================] - 54s 1s/step - loss: 0.4997 - accuracy: 0.8551 - val_loss: 0.7318 - val_accuracy: 0.7426\n",
      "Epoch 8/10\n",
      "48/48 [==============================] - 53s 1s/step - loss: 0.4680 - accuracy: 0.8638 - val_loss: 0.7266 - val_accuracy: 0.7410\n",
      "Epoch 9/10\n",
      "48/48 [==============================] - 54s 1s/step - loss: 0.4411 - accuracy: 0.8744 - val_loss: 0.7151 - val_accuracy: 0.7494\n",
      "Epoch 10/10\n",
      "48/48 [==============================] - 53s 1s/step - loss: 0.4188 - accuracy: 0.8791 - val_loss: 0.7158 - val_accuracy: 0.7372\n"
     ]
    }
   ],
   "source": [
    "history = model.fit(\n",
    "    train_data,\n",
    "    epochs = 10,\n",
    "    validation_data = test_data)"
   ]
  }
 ],
 "metadata": {
  "accelerator": "GPU",
  "colab": {
   "collapsed_sections": [],
   "provenance": []
  },
  "kernelspec": {
   "display_name": "Python 3 (ipykernel)",
   "language": "python",
   "name": "python3"
  },
  "language_info": {
   "codemirror_mode": {
    "name": "ipython",
    "version": 3
   },
   "file_extension": ".py",
   "mimetype": "text/x-python",
   "name": "python",
   "nbconvert_exporter": "python",
   "pygments_lexer": "ipython3",
   "version": "3.10.6"
  }
 },
 "nbformat": 4,
 "nbformat_minor": 1
}
